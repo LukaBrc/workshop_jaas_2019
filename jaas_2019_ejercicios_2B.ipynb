{
 "cells": [
  {
   "cell_type": "markdown",
   "metadata": {},
   "source": [
    "**1.** En estos ejercicios vamos a trabajar con la **FFT** y la **convolución**. Comenzaremos creando dos funciones: una que realice el cálculo de la FFT, devolviendo el valor absoluto del espectro, y otra que cargue un archivo *wav* a partir de la indicación de su nombre.\n",
    "\n",
    "*Nota*: La FFT deberá ser de 10000 puntos."
   ]
  },
  {
   "cell_type": "code",
   "execution_count": null,
   "metadata": {},
   "outputs": [],
   "source": []
  },
  {
   "cell_type": "markdown",
   "metadata": {},
   "source": [
    "**2.** Ahora generaremos la función que devuelve el gráfico de la FFT. El mismo deberá tener:\n",
    "\n",
    "* Sus argumentos de entrada son un array *frecuencia*, que se usará para crear los valores del eje de abscisas, y el array con el espectro obtenido de la función `calculo_fft`. \n",
    "* Se deben normalizar los valores de amplitud del espectro.\n",
    "* Se debe guardar una variable *n* con la longitud de la FFT\n",
    "* Utilizaremos `plt.subplots()` para crear un objeto `axis` sobre el que modificaremos las propiedades del gráfico.\n",
    "* El gráfico tendrá escala logarítmica para el eje x, mientras que el eje Y muestra valores logarítmicos en escala lineal (debemos aplicar $20log(X)$ siendo $X$ el vector con el espectro a graficar.\n",
    "* Se debe etiquetar los ejes X e Y.\n",
    "* Se debe agregar una grilla al gráfico.\n",
    "* A esta altura tenemos el gráfico y sus elementos preparados, pero podemos agregar algunos detalles para mejorar la visualización:\n",
    "    - La función `set_xticks` permite adaptar las etiquetas de los valores del eje de abscisas. La aprovecharemos para indicarle que nos muestre los valores de frecuencias centrales normalizadas entre 63 y 8000 Hz. Éstos se pasan como argumento en forma de lista: [63, 125, ..., 8000].\n",
    "    - Para que la modificación anterior tenga efecto, se debe ingresar la siguiente línea: `ax1.get_xaxis().set_major_formatter(matplotlib.ticker.ScalarFormatter())`, siendo `ax1` el nombre del objeto `axis` que hemos creado.\n",
    "* Por último, con `set_xlim` y `set_ylim` podemos ajustar los límites para visualizar la función. Definamos los límites para *x* entre 31 Hz y 20000 Hz, y para *y* entre -80 dB y 0 dB.     "
   ]
  },
  {
   "cell_type": "code",
   "execution_count": null,
   "metadata": {},
   "outputs": [],
   "source": []
  },
  {
   "cell_type": "markdown",
   "metadata": {},
   "source": [
    "**3.** Por último, apliquemos nuestras funciones. Primero generaremos una variable con el nombre del archivo de audio *melodía_silbido.wav*. Mediante la función `cargar_wav` convertiremos este archivo en un array y lo pasaremos por la función `calculo_fft`. Hecho esto, debemos generar un vector *frecuencias* antes de hacer los gráficos (recordar que la FFT se crea tanto para frecuencias positivas como negativas). Finalmente, llamamos a la función `graficar_fft` y creamos el gráfico."
   ]
  },
  {
   "cell_type": "code",
   "execution_count": null,
   "metadata": {},
   "outputs": [],
   "source": []
  }
 ],
 "metadata": {
  "kernelspec": {
   "display_name": "Python 3",
   "language": "python",
   "name": "python3"
  },
  "language_info": {
   "codemirror_mode": {
    "name": "ipython",
    "version": 3
   },
   "file_extension": ".py",
   "mimetype": "text/x-python",
   "name": "python",
   "nbconvert_exporter": "python",
   "pygments_lexer": "ipython3",
   "version": "3.7.3"
  }
 },
 "nbformat": 4,
 "nbformat_minor": 4
}
