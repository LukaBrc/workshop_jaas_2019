{
 "cells": [
  {
   "cell_type": "markdown",
   "metadata": {},
   "source": [
    "# JAAS 2019 - Procesamiento de Señales en Python\n",
    "## Clase 1:  Ejercicios\n",
    "\n",
    "![](imagenes/workshop_logo_300x200.png)"
   ]
  },
  {
   "cell_type": "markdown",
   "metadata": {},
   "source": [
    "**1.** Representaremos una oscilación amortiguada con un array de numpy.\n",
    "\n",
    "\\begin{equation}\n",
    "    y = e^{-x}cos(2\\pi f \\cdot x)\n",
    "\\end{equation}\n",
    "\n",
    "Primero generaremos el vector tiempo con la función `linspace` con 100 muestras en el intervalo [0,1] y luego debemos generar la función sobre este intervalo."
   ]
  },
  {
   "cell_type": "code",
   "execution_count": 18,
   "metadata": {},
   "outputs": [],
   "source": [
    "import numpy as np\n",
    "\n",
    "x = np.linspace(0, 1, 100)\n",
    "f = 10\n",
    "y = np.exp(-x)*np.cos(2*np.pi*f*x)linspace"
   ]
  },
  {
   "cell_type": "markdown",
   "metadata": {},
   "source": [
    "**2.** Completaremos los comandos mostrados a continuación:"
   ]
  },
  {
   "cell_type": "code",
   "execution_count": 21,
   "metadata": {},
   "outputs": [
    {
     "name": "stdout",
     "output_type": "stream",
     "text": [
      "Tamaño del array:\n",
      "\n",
      "100\n",
      "\n",
      "\n",
      "Valor de y para x=0 : \n",
      "\n",
      "1.0\n",
      "\n",
      "\n",
      "Valores de y entre las muestras 20 y 40: \n",
      "\n",
      "[ 0.81050487  0.58540432  0.13904659 -0.3520071  -0.69748979 -0.76707866\n",
      " -0.53945471 -0.10834434  0.35592671  0.67365082  0.72522967  0.4960948\n",
      "  0.08022532 -0.35826566 -0.64982326 -0.68494793 -0.45522246 -0.05453646\n",
      "  0.35916788  0.62608662]\n",
      "\n",
      "\n",
      "Valores de y para las últimas 10 muestras: \n",
      "\n",
      "[ 0.40616116  0.33893291  0.14234093 -0.1052126  -0.30724037 -0.38674159\n",
      " -0.31550736 -0.12402349  0.11146003  0.29924988]\n",
      "\n",
      "\n"
     ]
    }
   ],
   "source": [
    "# imprimir la longitud del array\n",
    "print('Tamaño del array:\\n')\n",
    "print(y.size)  # completar\n",
    "print(\"\\n\")\n",
    "\n",
    "# imprimir el valor de la función en el punto x = 0\n",
    "print('Valor de y para x=0 : \\n')\n",
    "print(y[0])  # completar\n",
    "print(\"\\n\")\n",
    "\n",
    "# imprimir los valores de la función entre las muestras 20 y 40\n",
    "print('Valores de y entre las muestras 20 y 40: \\n')\n",
    "print(y[20:40])  # completar\n",
    "print(\"\\n\")\n",
    "\n",
    "# imprimir los valores de la función para las últimas 10 muestras de la señal, usando índices negativos\n",
    "print('Valores de y para las últimas 10 muestras: \\n')\n",
    "print(y[-11:-1])  # completar\n",
    "print(\"\\n\")"
   ]
  },
  {
   "cell_type": "code",
   "execution_count": null,
   "metadata": {},
   "outputs": [],
   "source": []
  }
 ],
 "metadata": {
  "kernelspec": {
   "display_name": "Python 3",
   "language": "python",
   "name": "python3"
  },
  "language_info": {
   "codemirror_mode": {
    "name": "ipython",
    "version": 3
   },
   "file_extension": ".py",
   "mimetype": "text/x-python",
   "name": "python",
   "nbconvert_exporter": "python",
   "pygments_lexer": "ipython3",
   "version": "3.7.3"
  }
 },
 "nbformat": 4,
 "nbformat_minor": 4
}
