{
 "cells": [
  {
   "cell_type": "markdown",
   "metadata": {},
   "source": [
    "# JAAS 2019 - Procesamiento de Señales en Python\n",
    "## Clase 2:  Ejercicios Numpy + Matplotlib\n",
    "\n",
    "![](imagenes/workshop_logo_300x200.png)"
   ]
  },
  {
   "cell_type": "markdown",
   "metadata": {},
   "source": [
    "La siguiente ecuación representa una señal modulada en amplitud, musicalmente se lo conoce como *trémolo*:\n",
    "\n",
    "\\begin{equation*}\n",
    "y(t) = [1 + m \\cdot \\cos (2\\pi f_m \\cdot t)] \\cdot A \\cdot \\sin(2\\pi f_c \\cdot t)\n",
    "\\end{equation*}\n",
    "\n",
    "Donde:\n",
    "* $ m $ es el índice de modulación, con valor entre $0$ y $1$\n",
    "* $\\sin(2\\pi f_c \\cdot t)$ se denomina señal portadora\n",
    "* $\\cos (2\\pi f_m \\cdot t)$ se denomina señal moduladora\n",
    "* $f_c$ y $f_m$ son las frecuencias de la señal portadora y moduladora\n",
    "\n",
    "**1.** Generemos una señal modulada a partir de una frecuencia de portadora de 1 kHz y una moduladora de 250 Hz. Debemos comenzar definiendo todas las variables que fueron mencionadas para construir la ecuación, generar un vector tiempo y generar las dos señales involucradas, para finalmente obtener la  señal resultante."
   ]
  },
  {
   "cell_type": "code",
   "execution_count": null,
   "metadata": {},
   "outputs": [],
   "source": []
  },
  {
   "cell_type": "markdown",
   "metadata": {},
   "source": [
    "**2.** Grafiquemos las señales portadora y moduladora en tiempo, agregando etiquetas para cada gráfico y rótulos para los ejes. Observemos que graficar sobre todo el vector tiempo no nos permite ver cómodamente las señales, así que definiremos un intervalo de muestras adecuado, por ejemplo 300 muestras."
   ]
  },
  {
   "cell_type": "code",
   "execution_count": null,
   "metadata": {},
   "outputs": [],
   "source": []
  },
  {
   "cell_type": "markdown",
   "metadata": {},
   "source": [
    "**3.** Ahora grafiquemos la señal modulada en tiempo, de la misma forma que hicimos con las anteriores."
   ]
  },
  {
   "cell_type": "code",
   "execution_count": null,
   "metadata": {},
   "outputs": [],
   "source": []
  },
  {
   "cell_type": "markdown",
   "metadata": {},
   "source": [
    "**4.** Ahora, ¿qué tal si generamos funciones para implementar lo que anteriormente programamos? Vamos a generar funciones para aplicar la modulación, e implementar las dos gráficas anteriores. Debemos pensar en los argumentos de entrada y salida de las mismas, y cómo van a interactuar entre sí."
   ]
  },
  {
   "cell_type": "code",
   "execution_count": null,
   "metadata": {},
   "outputs": [],
   "source": [
    "def tremolo(fc, fm, m, sr, t=1):\n",
    "    \n",
    "def graficar_ambas(tiempo, num_samples, portadora, moduladora):\n",
    "    \n",
    "def graficar_efecto(tiempo, num_samples, signal_modulada):\n"
   ]
  },
  {
   "cell_type": "markdown",
   "metadata": {},
   "source": [
    "**5.** Por último, aprovecharemos la función `subplots` para generar ambos gráficos separados dentro de una misma ventana. Si definimos a cada gráfico como `ax1` y `ax2` podemos utilizar las funciones del módulo pyplot en forma similar a como lo hacíamos antes. Por ejemplo, los *labels* ahora se definen de la siguiente manera: `ax1.set_xlabel` define la etiqueta para el eje X.\n",
    "Vamos a crear la función **graficar**, que contenga dos gráficos implementados de la forma aquí mencionada. "
   ]
  },
  {
   "cell_type": "code",
   "execution_count": null,
   "metadata": {},
   "outputs": [],
   "source": [
    "def graficar(tiempo, portadora, moduladora):\n",
    "    f, (ax1, ax2) = plt.subplots(2, 1, sharex = True, sharey = True, figsize =(20,8))"
   ]
  },
  {
   "cell_type": "code",
   "execution_count": null,
   "metadata": {},
   "outputs": [],
   "source": [
    "out, port, mod, tiempo =tremolo(1000,250,0.3,fc*20)"
   ]
  },
  {
   "cell_type": "code",
   "execution_count": null,
   "metadata": {},
   "outputs": [],
   "source": [
    "graficar_efecto(tiempo, 300, out)"
   ]
  },
  {
   "cell_type": "code",
   "execution_count": null,
   "metadata": {},
   "outputs": [],
   "source": [
    "graficar_ambas(tiempo, 300, port, mod)"
   ]
  },
  {
   "cell_type": "code",
   "execution_count": null,
   "metadata": {},
   "outputs": [],
   "source": [
    "graficar(tiempo, port, mod)"
   ]
  }
 ],
 "metadata": {
  "kernelspec": {
   "display_name": "Python 3",
   "language": "python",
   "name": "python3"
  },
  "language_info": {
   "codemirror_mode": {
    "name": "ipython",
    "version": 3
   },
   "file_extension": ".py",
   "mimetype": "text/x-python",
   "name": "python",
   "nbconvert_exporter": "python",
   "pygments_lexer": "ipython3",
   "version": "3.7.3"
  }
 },
 "nbformat": 4,
 "nbformat_minor": 4
}
